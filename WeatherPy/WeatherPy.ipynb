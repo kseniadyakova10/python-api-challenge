{
 "cells": [
  {
   "cell_type": "markdown",
   "metadata": {},
   "source": [
    "# WeatherPy\n",
    "----\n",
    "\n",
    "#### Note\n",
    "* Instructions have been included for each segment. You do not have to follow them exactly, but they are included to help you think through the steps."
   ]
  },
  {
   "cell_type": "code",
   "execution_count": 1,
   "metadata": {
    "scrolled": true
   },
   "outputs": [
    {
     "name": "stdout",
     "output_type": "stream",
     "text": [
      "Collecting citipy\n",
      "  Downloading citipy-0.0.5.tar.gz (557 kB)\n",
      "\u001b[K     |████████████████████████████████| 557 kB 3.1 MB/s eta 0:00:01\n",
      "\u001b[?25hCollecting kdtree>=0.12\n",
      "  Downloading kdtree-0.16-py2.py3-none-any.whl (7.7 kB)\n",
      "Building wheels for collected packages: citipy\n",
      "  Building wheel for citipy (setup.py) ... \u001b[?25ldone\n",
      "\u001b[?25h  Created wheel for citipy: filename=citipy-0.0.5-py3-none-any.whl size=559701 sha256=53cfe784d6557ace1060ce31db9cd066472bb9bdbbc857f399d8de0bda019685\n",
      "  Stored in directory: /Users/kseniadyakova/Library/Caches/pip/wheels/eb/07/14/1c448d9fabf3aceac66270933ecae15693974a1b7f91266841\n",
      "Successfully built citipy\n",
      "Installing collected packages: kdtree, citipy\n",
      "Successfully installed citipy-0.0.5 kdtree-0.16\n",
      "Note: you may need to restart the kernel to use updated packages.\n"
     ]
    }
   ],
   "source": [
    "pip install citipy"
   ]
  },
  {
   "cell_type": "code",
   "execution_count": 46,
   "metadata": {},
   "outputs": [],
   "source": [
    "import pandas as pd\n",
    "import matplotlib.pyplot as plt\n",
    "import scipy.stats as st\n",
    "from scipy.stats import linregress\n",
    "import numpy as np\n",
    "import random\n",
    "from citipy import citipy\n",
    "\n",
    "import requests\n",
    "import json\n",
    "\n",
    "# Import API key\n",
    "# OpenWeatherMap API Key\n",
    "from api_keys import weather_api_key\n",
    "# Google API Key\n",
    "from api_keys import g_key"
   ]
  },
  {
   "cell_type": "markdown",
   "metadata": {},
   "source": [
    "## Generate Cities List"
   ]
  },
  {
   "cell_type": "code",
   "execution_count": 3,
   "metadata": {},
   "outputs": [
    {
     "data": {
      "text/plain": [
       "612"
      ]
     },
     "execution_count": 3,
     "metadata": {},
     "output_type": "execute_result"
    }
   ],
   "source": [
    "lat_lngs = []\n",
    "cities = []\n",
    "\n",
    "#random lat and lng combinations\n",
    "\n",
    "lats = np.random.uniform(low=-90.000, high=90.000, size=1500)\n",
    "lngs = np.random.uniform(low=-180.000, high=180.000, size=1500)\n",
    "lat_lngs = zip(lats, lngs)\n",
    "\n",
    "for lat_lng in lat_lngs:\n",
    "    city = citipy.nearest_city(lat_lng[0], lat_lng[1]).city_name\n",
    "    if city not in cities:\n",
    "        cities.append(city)\n",
    "len(cities)"
   ]
  },
  {
   "cell_type": "code",
   "execution_count": 4,
   "metadata": {},
   "outputs": [
    {
     "data": {
      "text/plain": [
       "(612, 1)"
      ]
     },
     "execution_count": 4,
     "metadata": {},
     "output_type": "execute_result"
    }
   ],
   "source": [
    "cities_df=pd.DataFrame(cities)\n",
    "cities_df.shape"
   ]
  },
  {
   "cell_type": "code",
   "execution_count": 5,
   "metadata": {},
   "outputs": [
    {
     "data": {
      "text/html": [
       "<div>\n",
       "<style scoped>\n",
       "    .dataframe tbody tr th:only-of-type {\n",
       "        vertical-align: middle;\n",
       "    }\n",
       "\n",
       "    .dataframe tbody tr th {\n",
       "        vertical-align: top;\n",
       "    }\n",
       "\n",
       "    .dataframe thead th {\n",
       "        text-align: right;\n",
       "    }\n",
       "</style>\n",
       "<table border=\"1\" class=\"dataframe\">\n",
       "  <thead>\n",
       "    <tr style=\"text-align: right;\">\n",
       "      <th></th>\n",
       "      <th>City</th>\n",
       "      <th>Country</th>\n",
       "      <th>Lat</th>\n",
       "      <th>Lng</th>\n",
       "      <th>Temp (F)</th>\n",
       "      <th>Humidity</th>\n",
       "      <th>Wind Speed (mph)</th>\n",
       "      <th>Cloudiness</th>\n",
       "      <th>Date</th>\n",
       "    </tr>\n",
       "  </thead>\n",
       "  <tbody>\n",
       "    <tr>\n",
       "      <th>0</th>\n",
       "      <td>victoria</td>\n",
       "      <td></td>\n",
       "      <td></td>\n",
       "      <td></td>\n",
       "      <td></td>\n",
       "      <td></td>\n",
       "      <td></td>\n",
       "      <td></td>\n",
       "      <td></td>\n",
       "    </tr>\n",
       "    <tr>\n",
       "      <th>1</th>\n",
       "      <td>gravdal</td>\n",
       "      <td></td>\n",
       "      <td></td>\n",
       "      <td></td>\n",
       "      <td></td>\n",
       "      <td></td>\n",
       "      <td></td>\n",
       "      <td></td>\n",
       "      <td></td>\n",
       "    </tr>\n",
       "    <tr>\n",
       "      <th>2</th>\n",
       "      <td>vaasa</td>\n",
       "      <td></td>\n",
       "      <td></td>\n",
       "      <td></td>\n",
       "      <td></td>\n",
       "      <td></td>\n",
       "      <td></td>\n",
       "      <td></td>\n",
       "      <td></td>\n",
       "    </tr>\n",
       "    <tr>\n",
       "      <th>3</th>\n",
       "      <td>qaanaaq</td>\n",
       "      <td></td>\n",
       "      <td></td>\n",
       "      <td></td>\n",
       "      <td></td>\n",
       "      <td></td>\n",
       "      <td></td>\n",
       "      <td></td>\n",
       "      <td></td>\n",
       "    </tr>\n",
       "    <tr>\n",
       "      <th>4</th>\n",
       "      <td>hermanus</td>\n",
       "      <td></td>\n",
       "      <td></td>\n",
       "      <td></td>\n",
       "      <td></td>\n",
       "      <td></td>\n",
       "      <td></td>\n",
       "      <td></td>\n",
       "      <td></td>\n",
       "    </tr>\n",
       "  </tbody>\n",
       "</table>\n",
       "</div>"
      ],
      "text/plain": [
       "       City Country Lat Lng Temp (F) Humidity Wind Speed (mph) Cloudiness Date\n",
       "0  victoria                                                                   \n",
       "1   gravdal                                                                   \n",
       "2     vaasa                                                                   \n",
       "3   qaanaaq                                                                   \n",
       "4  hermanus                                                                   "
      ]
     },
     "execution_count": 5,
     "metadata": {},
     "output_type": "execute_result"
    }
   ],
   "source": [
    "cities_df.columns=[\"City\"]\n",
    "cities_df[\"Country\"] = \"\"\n",
    "cities_df[\"Lat\"] = \"\"\n",
    "cities_df[\"Lng\"] = \"\"\n",
    "cities_df[\"Temp (F)\"] = \"\"\n",
    "cities_df[\"Humidity\"] = \"\"\n",
    "cities_df[\"Wind Speed (mph)\"] = \"\"\n",
    "cities_df[\"Cloudiness\"] = \"\"\n",
    "cities_df[\"Date\"] = \"\"\n",
    "\n",
    "cities_df.head()"
   ]
  },
  {
   "cell_type": "markdown",
   "metadata": {},
   "source": [
    "### Perform API Calls\n",
    "* Perform a weather check on each city using a series of successive API calls.\n",
    "* Include a print log of each city as it'sbeing processed (with the city number and city name).\n"
   ]
  },
  {
   "cell_type": "code",
   "execution_count": 6,
   "metadata": {
    "scrolled": true
   },
   "outputs": [
    {
     "name": "stdout",
     "output_type": "stream",
     "text": [
      "Processing Record 1 of Set 1 | victoria\n",
      "Processing Record 2 of Set 1 | gravdal\n",
      "Processing Record 3 of Set 1 | vaasa\n",
      "Processing Record 4 of Set 1 | qaanaaq\n",
      "Processing Record 5 of Set 1 | hermanus\n",
      "Processing Record 6 of Set 1 | atuona\n",
      "Processing Record 7 of Set 1 | amderma\n",
      "Missing city. Skipping...\n",
      "Processing Record 8 of Set 1 | new norfolk\n",
      "Processing Record 9 of Set 1 | cape town\n",
      "Processing Record 10 of Set 1 | busselton\n",
      "Processing Record 11 of Set 1 | saskylakh\n",
      "Processing Record 12 of Set 1 | bianzhuang\n",
      "Processing Record 13 of Set 1 | saint-philippe\n",
      "Processing Record 14 of Set 1 | luderitz\n",
      "Processing Record 15 of Set 1 | rikitea\n",
      "Processing Record 16 of Set 1 | barrow\n",
      "Processing Record 17 of Set 1 | cockburn town\n",
      "Processing Record 18 of Set 1 | swellendam\n",
      "Processing Record 19 of Set 1 | bend\n",
      "Processing Record 20 of Set 1 | jamestown\n",
      "Processing Record 21 of Set 1 | klaksvik\n",
      "Processing Record 22 of Set 1 | te anau\n",
      "Processing Record 23 of Set 1 | puerto escondido\n",
      "Processing Record 24 of Set 1 | cherskiy\n",
      "Processing Record 25 of Set 1 | ushuaia\n",
      "Processing Record 26 of Set 1 | port blair\n",
      "Processing Record 27 of Set 1 | punta arenas\n",
      "Processing Record 28 of Set 1 | kapaa\n",
      "Processing Record 29 of Set 1 | bamnet narong\n",
      "Processing Record 30 of Set 1 | ahuimanu\n",
      "Processing Record 31 of Set 1 | bengkulu\n",
      "Processing Record 32 of Set 1 | albany\n",
      "Processing Record 33 of Set 1 | avarua\n",
      "Processing Record 34 of Set 1 | arraial do cabo\n",
      "Processing Record 35 of Set 1 | kurilsk\n",
      "Processing Record 36 of Set 1 | charters towers\n",
      "Processing Record 37 of Set 1 | constitucion\n",
      "Processing Record 38 of Set 1 | taolanaro\n",
      "Missing city. Skipping...\n",
      "Processing Record 39 of Set 1 | manado\n",
      "Processing Record 40 of Set 1 | boca do acre\n",
      "Processing Record 41 of Set 1 | tasiilaq\n",
      "Processing Record 42 of Set 1 | bluff\n",
      "Processing Record 43 of Set 1 | port alfred\n",
      "Processing Record 44 of Set 1 | suntar\n",
      "Processing Record 45 of Set 1 | goedereede\n",
      "Processing Record 46 of Set 1 | maragogi\n",
      "Processing Record 47 of Set 1 | mataura\n",
      "Processing Record 48 of Set 1 | vaitupu\n",
      "Missing city. Skipping...\n",
      "Processing Record 49 of Set 1 | homer\n",
      "Processing Record 0 of Set 2 | pangnirtung\n",
      "Processing Record 1 of Set 2 | santa rosa\n",
      "Processing Record 2 of Set 2 | san quintin\n",
      "Processing Record 3 of Set 2 | sorvag\n",
      "Missing city. Skipping...\n",
      "Processing Record 4 of Set 2 | east london\n",
      "Processing Record 5 of Set 2 | sinnamary\n",
      "Processing Record 6 of Set 2 | mahaicony\n",
      "Missing city. Skipping...\n",
      "Processing Record 7 of Set 2 | illoqqortoormiut\n",
      "Missing city. Skipping...\n",
      "Processing Record 8 of Set 2 | pristina\n",
      "Processing Record 9 of Set 2 | zabinka\n",
      "Missing city. Skipping...\n",
      "Processing Record 10 of Set 2 | ribeira grande\n",
      "Processing Record 11 of Set 2 | vestmannaeyjar\n",
      "Processing Record 12 of Set 2 | yermakovskoye\n",
      "Processing Record 13 of Set 2 | bredasdorp\n",
      "Processing Record 14 of Set 2 | bubaque\n",
      "Processing Record 15 of Set 2 | faanui\n",
      "Processing Record 16 of Set 2 | vaini\n",
      "Processing Record 17 of Set 2 | amazar\n",
      "Processing Record 18 of Set 2 | tuatapere\n",
      "Processing Record 19 of Set 2 | show low\n",
      "Processing Record 20 of Set 2 | la ronge\n",
      "Processing Record 21 of Set 2 | maniitsoq\n",
      "Processing Record 22 of Set 2 | kumylzhenskaya\n",
      "Processing Record 23 of Set 2 | segezha\n",
      "Processing Record 24 of Set 2 | clyde river\n",
      "Processing Record 25 of Set 2 | luwuk\n",
      "Processing Record 26 of Set 2 | san carlos de bariloche\n",
      "Processing Record 27 of Set 2 | ormara\n",
      "Processing Record 28 of Set 2 | sao felix do xingu\n",
      "Processing Record 29 of Set 2 | tecoanapa\n",
      "Processing Record 30 of Set 2 | port-gentil\n",
      "Processing Record 31 of Set 2 | winslow\n",
      "Processing Record 32 of Set 2 | carnarvon\n",
      "Processing Record 33 of Set 2 | dikson\n",
      "Processing Record 34 of Set 2 | hobart\n",
      "Processing Record 35 of Set 2 | eau claire\n",
      "Processing Record 36 of Set 2 | winnemucca\n",
      "Processing Record 37 of Set 2 | yellowknife\n",
      "Processing Record 38 of Set 2 | temaraia\n",
      "Missing city. Skipping...\n",
      "Processing Record 39 of Set 2 | beckley\n",
      "Processing Record 40 of Set 2 | lebu\n",
      "Processing Record 41 of Set 2 | minab\n",
      "Processing Record 42 of Set 2 | oranjestad\n",
      "Processing Record 43 of Set 2 | wabrzezno\n",
      "Processing Record 44 of Set 2 | turan\n",
      "Processing Record 45 of Set 2 | gao\n",
      "Processing Record 46 of Set 2 | namibe\n",
      "Processing Record 47 of Set 2 | gamba\n",
      "Processing Record 48 of Set 2 | reykjavik\n",
      "Processing Record 49 of Set 2 | port hardy\n",
      "Processing Record 0 of Set 3 | salalah\n",
      "Processing Record 1 of Set 3 | praia da vitoria\n",
      "Processing Record 2 of Set 3 | henties bay\n",
      "Processing Record 3 of Set 3 | lahaina\n",
      "Processing Record 4 of Set 3 | georgetown\n",
      "Processing Record 5 of Set 3 | chagda\n",
      "Missing city. Skipping...\n",
      "Processing Record 6 of Set 3 | lannion\n",
      "Processing Record 7 of Set 3 | kargil\n",
      "Processing Record 8 of Set 3 | husavik\n",
      "Processing Record 9 of Set 3 | kahului\n",
      "Processing Record 10 of Set 3 | luanda\n",
      "Processing Record 11 of Set 3 | hurghada\n",
      "Processing Record 12 of Set 3 | sao joao da barra\n",
      "Processing Record 13 of Set 3 | nijar\n",
      "Processing Record 14 of Set 3 | maceio\n",
      "Processing Record 15 of Set 3 | narasapur\n",
      "Processing Record 16 of Set 3 | vredendal\n",
      "Processing Record 17 of Set 3 | grand river south east\n",
      "Missing city. Skipping...\n",
      "Processing Record 18 of Set 3 | bethel\n",
      "Processing Record 19 of Set 3 | ayolas\n",
      "Processing Record 20 of Set 3 | vardo\n",
      "Processing Record 21 of Set 3 | gus-khrustalnyy\n",
      "Processing Record 22 of Set 3 | qianan\n",
      "Processing Record 23 of Set 3 | islamkot\n",
      "Processing Record 24 of Set 3 | puerto el triunfo\n",
      "Processing Record 25 of Set 3 | barentsburg\n",
      "Missing city. Skipping...\n",
      "Processing Record 26 of Set 3 | anchorage\n",
      "Processing Record 27 of Set 3 | pevek\n",
      "Processing Record 28 of Set 3 | hasaki\n",
      "Processing Record 29 of Set 3 | touros\n",
      "Processing Record 30 of Set 3 | hofn\n",
      "Processing Record 31 of Set 3 | tautira\n",
      "Processing Record 32 of Set 3 | tilichiki\n",
      "Processing Record 33 of Set 3 | piacabucu\n",
      "Processing Record 34 of Set 3 | castro\n",
      "Processing Record 35 of Set 3 | samusu\n",
      "Missing city. Skipping...\n",
      "Processing Record 36 of Set 3 | lasa\n",
      "Processing Record 37 of Set 3 | bambous virieux\n",
      "Processing Record 38 of Set 3 | tawkar\n",
      "Missing city. Skipping...\n",
      "Processing Record 39 of Set 3 | hithadhoo\n",
      "Processing Record 40 of Set 3 | ambilobe\n",
      "Processing Record 41 of Set 3 | chumikan\n",
      "Processing Record 42 of Set 3 | palabuhanratu\n",
      "Missing city. Skipping...\n",
      "Processing Record 43 of Set 3 | naze\n",
      "Processing Record 44 of Set 3 | waipawa\n",
      "Processing Record 45 of Set 3 | coahuayana\n",
      "Processing Record 46 of Set 3 | atambua\n",
      "Processing Record 47 of Set 3 | zhicheng\n",
      "Processing Record 48 of Set 3 | arman\n",
      "Processing Record 49 of Set 3 | chuy\n",
      "Processing Record 0 of Set 4 | seoul\n",
      "Processing Record 1 of Set 4 | callaguip\n",
      "Processing Record 2 of Set 4 | attawapiskat\n",
      "Missing city. Skipping...\n",
      "Processing Record 3 of Set 4 | nishihara\n",
      "Processing Record 4 of Set 4 | keetmanshoop\n",
      "Processing Record 5 of Set 4 | puerto ayora\n",
      "Processing Record 6 of Set 4 | digha\n",
      "Processing Record 7 of Set 4 | mana\n",
      "Processing Record 8 of Set 4 | bafra\n",
      "Processing Record 9 of Set 4 | saldanha\n",
      "Processing Record 10 of Set 4 | torbay\n",
      "Processing Record 11 of Set 4 | airai\n",
      "Processing Record 12 of Set 4 | khash\n",
      "Processing Record 13 of Set 4 | kavaratti\n",
      "Processing Record 14 of Set 4 | vila\n",
      "Processing Record 15 of Set 4 | rongcheng\n",
      "Processing Record 16 of Set 4 | truth or consequences\n",
      "Processing Record 17 of Set 4 | ardesen\n",
      "Processing Record 18 of Set 4 | fortuna\n",
      "Processing Record 19 of Set 4 | abiy adi\n",
      "Missing city. Skipping...\n",
      "Processing Record 20 of Set 4 | araouane\n",
      "Processing Record 21 of Set 4 | belushya guba\n",
      "Missing city. Skipping...\n",
      "Processing Record 22 of Set 4 | palu\n",
      "Processing Record 23 of Set 4 | butaritari\n",
      "Processing Record 24 of Set 4 | maarianhamina\n",
      "Processing Record 25 of Set 4 | taoudenni\n",
      "Processing Record 26 of Set 4 | bandrele\n",
      "Processing Record 27 of Set 4 | cap malheureux\n",
      "Processing Record 28 of Set 4 | assiniboia\n",
      "Processing Record 29 of Set 4 | kodiak\n",
      "Processing Record 30 of Set 4 | jiuquan\n",
      "Processing Record 31 of Set 4 | bathsheba\n",
      "Processing Record 32 of Set 4 | kruisfontein\n",
      "Processing Record 33 of Set 4 | vilcun\n",
      "Processing Record 34 of Set 4 | nikolskoye\n",
      "Processing Record 35 of Set 4 | pingyin\n",
      "Processing Record 36 of Set 4 | dombarovskiy\n",
      "Processing Record 37 of Set 4 | ciudad bolivar\n",
      "Processing Record 38 of Set 4 | lorengau\n"
     ]
    },
    {
     "name": "stdout",
     "output_type": "stream",
     "text": [
      "Processing Record 39 of Set 4 | sayyan\n",
      "Processing Record 40 of Set 4 | jalu\n",
      "Processing Record 41 of Set 4 | marcona\n",
      "Missing city. Skipping...\n",
      "Processing Record 42 of Set 4 | ouallam\n",
      "Processing Record 43 of Set 4 | san fernando\n",
      "Processing Record 44 of Set 4 | satitoa\n",
      "Missing city. Skipping...\n",
      "Processing Record 45 of Set 4 | haines junction\n",
      "Processing Record 46 of Set 4 | yambio\n",
      "Processing Record 47 of Set 4 | khatanga\n",
      "Processing Record 48 of Set 4 | flinders\n",
      "Processing Record 49 of Set 4 | hilo\n",
      "Processing Record 0 of Set 5 | okha\n",
      "Processing Record 1 of Set 5 | samarai\n",
      "Processing Record 2 of Set 5 | upernavik\n",
      "Processing Record 3 of Set 5 | umzimvubu\n",
      "Missing city. Skipping...\n",
      "Processing Record 4 of Set 5 | tumannyy\n",
      "Missing city. Skipping...\n",
      "Processing Record 5 of Set 5 | palamos\n",
      "Processing Record 6 of Set 5 | port lincoln\n",
      "Processing Record 7 of Set 5 | ahipara\n",
      "Processing Record 8 of Set 5 | marsabit\n",
      "Processing Record 9 of Set 5 | barabai\n",
      "Processing Record 10 of Set 5 | aksu\n",
      "Processing Record 11 of Set 5 | hamilton\n",
      "Processing Record 12 of Set 5 | sitges\n",
      "Processing Record 13 of Set 5 | tocopilla\n",
      "Processing Record 14 of Set 5 | inhambane\n",
      "Processing Record 15 of Set 5 | mahibadhoo\n",
      "Processing Record 16 of Set 5 | porto novo\n",
      "Processing Record 17 of Set 5 | cabedelo\n",
      "Processing Record 18 of Set 5 | bairiki\n",
      "Processing Record 19 of Set 5 | rio branco\n",
      "Processing Record 20 of Set 5 | nouakchott\n",
      "Processing Record 21 of Set 5 | anar darreh\n",
      "Missing city. Skipping...\n",
      "Processing Record 22 of Set 5 | chapais\n",
      "Processing Record 23 of Set 5 | havre-saint-pierre\n",
      "Processing Record 24 of Set 5 | korla\n",
      "Processing Record 25 of Set 5 | katsuura\n",
      "Processing Record 26 of Set 5 | prince albert\n",
      "Processing Record 27 of Set 5 | arlit\n",
      "Processing Record 28 of Set 5 | sorong\n",
      "Processing Record 29 of Set 5 | longyearbyen\n",
      "Processing Record 30 of Set 5 | vanimo\n",
      "Processing Record 31 of Set 5 | nioro\n",
      "Processing Record 32 of Set 5 | phuket\n",
      "Processing Record 33 of Set 5 | geraldton\n",
      "Processing Record 34 of Set 5 | tiksi\n",
      "Processing Record 35 of Set 5 | lodja\n",
      "Processing Record 36 of Set 5 | presidencia roque saenz pena\n",
      "Processing Record 37 of Set 5 | rawah\n",
      "Processing Record 38 of Set 5 | mikhaylovka\n",
      "Processing Record 39 of Set 5 | harper\n",
      "Processing Record 40 of Set 5 | punto fijo\n",
      "Processing Record 41 of Set 5 | talcahuano\n",
      "Processing Record 42 of Set 5 | zhigansk\n",
      "Processing Record 43 of Set 5 | alofi\n",
      "Processing Record 44 of Set 5 | yingzhong\n",
      "Missing city. Skipping...\n",
      "Processing Record 45 of Set 5 | rawannawi\n",
      "Missing city. Skipping...\n",
      "Processing Record 46 of Set 5 | senno\n",
      "Processing Record 47 of Set 5 | ilo\n",
      "Processing Record 48 of Set 5 | severo-kurilsk\n",
      "Processing Record 49 of Set 5 | penzance\n",
      "Processing Record 0 of Set 6 | mar del plata\n",
      "Processing Record 1 of Set 6 | olafsvik\n",
      "Processing Record 2 of Set 6 | praia\n",
      "Processing Record 3 of Set 6 | jibuti\n",
      "Processing Record 4 of Set 6 | esil\n",
      "Processing Record 5 of Set 6 | abalak\n",
      "Processing Record 6 of Set 6 | cidreira\n",
      "Processing Record 7 of Set 6 | goderich\n",
      "Processing Record 8 of Set 6 | san patricio\n",
      "Processing Record 9 of Set 6 | lompoc\n",
      "Processing Record 10 of Set 6 | ancud\n",
      "Processing Record 11 of Set 6 | isangel\n",
      "Processing Record 12 of Set 6 | ca mau\n",
      "Processing Record 13 of Set 6 | benghazi\n",
      "Processing Record 14 of Set 6 | mizdah\n",
      "Processing Record 15 of Set 6 | hualmay\n",
      "Processing Record 16 of Set 6 | provideniya\n",
      "Processing Record 17 of Set 6 | louisbourg\n",
      "Missing city. Skipping...\n",
      "Processing Record 18 of Set 6 | pokaran\n",
      "Processing Record 19 of Set 6 | sioux lookout\n",
      "Processing Record 20 of Set 6 | mogok\n",
      "Processing Record 21 of Set 6 | liverpool\n",
      "Processing Record 22 of Set 6 | sumbawa\n",
      "Missing city. Skipping...\n",
      "Processing Record 23 of Set 6 | noumea\n",
      "Processing Record 24 of Set 6 | christchurch\n",
      "Processing Record 25 of Set 6 | thompson\n",
      "Processing Record 26 of Set 6 | kautokeino\n",
      "Processing Record 27 of Set 6 | utiroa\n",
      "Missing city. Skipping...\n",
      "Processing Record 28 of Set 6 | smithers\n",
      "Processing Record 29 of Set 6 | coihaique\n",
      "Processing Record 30 of Set 6 | mulchen\n",
      "Processing Record 31 of Set 6 | clocolan\n",
      "Processing Record 32 of Set 6 | gobabis\n",
      "Processing Record 33 of Set 6 | vila velha\n",
      "Processing Record 34 of Set 6 | viloco\n",
      "Processing Record 35 of Set 6 | baculin\n",
      "Processing Record 36 of Set 6 | nizhneyansk\n",
      "Missing city. Skipping...\n",
      "Processing Record 37 of Set 6 | kuusamo\n",
      "Processing Record 38 of Set 6 | ponta do sol\n",
      "Processing Record 39 of Set 6 | ayna\n",
      "Processing Record 40 of Set 6 | plettenberg bay\n",
      "Processing Record 41 of Set 6 | bilibino\n",
      "Processing Record 42 of Set 6 | tynda\n",
      "Processing Record 43 of Set 6 | mys shmidta\n",
      "Missing city. Skipping...\n",
      "Processing Record 44 of Set 6 | aklavik\n",
      "Processing Record 45 of Set 6 | trairi\n",
      "Processing Record 46 of Set 6 | porterville\n",
      "Processing Record 47 of Set 6 | chokurdakh\n",
      "Processing Record 48 of Set 6 | namie\n",
      "Processing Record 49 of Set 6 | auki\n",
      "Processing Record 0 of Set 7 | saleaula\n",
      "Missing city. Skipping...\n",
      "Processing Record 1 of Set 7 | puerto leguizamo\n",
      "Processing Record 2 of Set 7 | valle de allende\n",
      "Processing Record 3 of Set 7 | takanabe\n",
      "Processing Record 4 of Set 7 | beringovskiy\n",
      "Processing Record 5 of Set 7 | karakulino\n",
      "Processing Record 6 of Set 7 | gorno-chuyskiy\n",
      "Missing city. Skipping...\n",
      "Processing Record 7 of Set 7 | jennings\n",
      "Processing Record 8 of Set 7 | makakilo city\n",
      "Processing Record 9 of Set 7 | shalinskoye\n",
      "Processing Record 10 of Set 7 | guiglo\n",
      "Processing Record 11 of Set 7 | apple valley\n",
      "Processing Record 12 of Set 7 | iskateley\n",
      "Processing Record 13 of Set 7 | manggar\n",
      "Processing Record 14 of Set 7 | sakakah\n",
      "Processing Record 15 of Set 7 | puerto carreno\n",
      "Processing Record 16 of Set 7 | aksarka\n",
      "Processing Record 17 of Set 7 | miri\n",
      "Processing Record 18 of Set 7 | tsihombe\n",
      "Missing city. Skipping...\n",
      "Processing Record 19 of Set 7 | bandarbeyla\n",
      "Processing Record 20 of Set 7 | hebi\n",
      "Processing Record 21 of Set 7 | fort saint james\n",
      "Processing Record 22 of Set 7 | jabiru\n",
      "Missing city. Skipping...\n",
      "Processing Record 23 of Set 7 | ambon\n",
      "Processing Record 24 of Set 7 | prince rupert\n",
      "Processing Record 25 of Set 7 | nome\n",
      "Processing Record 26 of Set 7 | burns lake\n",
      "Processing Record 27 of Set 7 | kaitangata\n",
      "Processing Record 28 of Set 7 | balykshi\n",
      "Processing Record 29 of Set 7 | wenling\n",
      "Processing Record 30 of Set 7 | poum\n",
      "Processing Record 31 of Set 7 | kavieng\n",
      "Processing Record 32 of Set 7 | nelson bay\n",
      "Processing Record 33 of Set 7 | banda aceh\n",
      "Processing Record 34 of Set 7 | blonduos\n",
      "Missing city. Skipping...\n",
      "Processing Record 35 of Set 7 | mount gambier\n",
      "Processing Record 36 of Set 7 | salinopolis\n",
      "Processing Record 37 of Set 7 | elat\n",
      "Processing Record 38 of Set 7 | urumqi\n",
      "Processing Record 39 of Set 7 | taltal\n",
      "Processing Record 40 of Set 7 | santa maria\n",
      "Processing Record 41 of Set 7 | toora-khem\n",
      "Processing Record 42 of Set 7 | mokrousovo\n",
      "Processing Record 43 of Set 7 | roald\n",
      "Processing Record 44 of Set 7 | ilulissat\n",
      "Processing Record 45 of Set 7 | fare\n",
      "Processing Record 46 of Set 7 | galiwinku\n",
      "Missing city. Skipping...\n",
      "Processing Record 47 of Set 7 | tuktoyaktuk\n",
      "Processing Record 48 of Set 7 | anahuac\n",
      "Processing Record 49 of Set 7 | pisco\n",
      "Processing Record 0 of Set 8 | atherton\n",
      "Processing Record 1 of Set 8 | nguiu\n",
      "Missing city. Skipping...\n",
      "Processing Record 2 of Set 8 | canico\n",
      "Processing Record 3 of Set 8 | horsham\n",
      "Processing Record 4 of Set 8 | adrar\n",
      "Processing Record 5 of Set 8 | podyuga\n",
      "Processing Record 6 of Set 8 | sitka\n",
      "Processing Record 7 of Set 8 | coquimbo\n",
      "Processing Record 8 of Set 8 | bajil\n",
      "Processing Record 9 of Set 8 | laguna\n",
      "Processing Record 10 of Set 8 | xichang\n",
      "Processing Record 11 of Set 8 | alice springs\n",
      "Processing Record 12 of Set 8 | bosobolo\n",
      "Processing Record 13 of Set 8 | karkaralinsk\n",
      "Missing city. Skipping...\n",
      "Processing Record 14 of Set 8 | semirom\n",
      "Processing Record 15 of Set 8 | turukhansk\n",
      "Processing Record 16 of Set 8 | corinto\n",
      "Processing Record 17 of Set 8 | iracoubo\n",
      "Processing Record 18 of Set 8 | santiago del estero\n",
      "Processing Record 19 of Set 8 | krasnoselkup\n",
      "Processing Record 20 of Set 8 | zgierz\n",
      "Processing Record 21 of Set 8 | saint-francois\n",
      "Processing Record 22 of Set 8 | tiznit\n",
      "Processing Record 23 of Set 8 | los llanos de aridane\n",
      "Processing Record 24 of Set 8 | souillac\n",
      "Processing Record 25 of Set 8 | boa vista\n"
     ]
    },
    {
     "name": "stdout",
     "output_type": "stream",
     "text": [
      "Processing Record 26 of Set 8 | asfi\n",
      "Processing Record 27 of Set 8 | palmer\n",
      "Processing Record 28 of Set 8 | jinji\n",
      "Processing Record 29 of Set 8 | kuche\n",
      "Missing city. Skipping...\n",
      "Processing Record 30 of Set 8 | rungata\n",
      "Missing city. Skipping...\n",
      "Processing Record 31 of Set 8 | garissa\n",
      "Processing Record 32 of Set 8 | yakima\n",
      "Processing Record 33 of Set 8 | dunedin\n",
      "Processing Record 34 of Set 8 | cabo san lucas\n",
      "Processing Record 35 of Set 8 | norman wells\n",
      "Processing Record 36 of Set 8 | yuzhno-yeniseyskiy\n",
      "Missing city. Skipping...\n",
      "Processing Record 37 of Set 8 | grindavik\n",
      "Processing Record 38 of Set 8 | balakhninskiy\n",
      "Processing Record 39 of Set 8 | strezhevoy\n",
      "Processing Record 40 of Set 8 | iqaluit\n",
      "Processing Record 41 of Set 8 | slave lake\n",
      "Processing Record 42 of Set 8 | egvekinot\n",
      "Processing Record 43 of Set 8 | ternate\n",
      "Processing Record 44 of Set 8 | novokizhinginsk\n",
      "Processing Record 45 of Set 8 | moron\n",
      "Processing Record 46 of Set 8 | khandyga\n",
      "Processing Record 47 of Set 8 | kijang\n",
      "Processing Record 48 of Set 8 | gizo\n",
      "Processing Record 49 of Set 8 | kainantu\n",
      "Processing Record 0 of Set 9 | qui nhon\n",
      "Processing Record 1 of Set 9 | kalanguy\n",
      "Processing Record 2 of Set 9 | sentyabrskiy\n",
      "Missing city. Skipping...\n",
      "Processing Record 3 of Set 9 | bakchar\n",
      "Processing Record 4 of Set 9 | bukoba\n",
      "Processing Record 5 of Set 9 | port augusta\n",
      "Processing Record 6 of Set 9 | sur\n",
      "Processing Record 7 of Set 9 | gambela\n",
      "Processing Record 8 of Set 9 | tezu\n",
      "Processing Record 9 of Set 9 | ust-kamchatsk\n",
      "Missing city. Skipping...\n",
      "Processing Record 10 of Set 9 | falealupo\n",
      "Missing city. Skipping...\n",
      "Processing Record 11 of Set 9 | port macquarie\n",
      "Processing Record 12 of Set 9 | shiraz\n",
      "Processing Record 13 of Set 9 | labutta\n",
      "Missing city. Skipping...\n",
      "Processing Record 14 of Set 9 | calvinia\n",
      "Processing Record 15 of Set 9 | bam\n",
      "Processing Record 16 of Set 9 | leningradskiy\n",
      "Processing Record 17 of Set 9 | akdepe\n",
      "Processing Record 18 of Set 9 | fort saint john\n",
      "Missing city. Skipping...\n",
      "Processing Record 19 of Set 9 | berlevag\n",
      "Processing Record 20 of Set 9 | marrakesh\n",
      "Processing Record 21 of Set 9 | talnakh\n",
      "Processing Record 22 of Set 9 | jambi\n",
      "Processing Record 23 of Set 9 | bredy\n",
      "Processing Record 24 of Set 9 | waingapu\n",
      "Processing Record 25 of Set 9 | nuuk\n",
      "Processing Record 26 of Set 9 | ust-kuyga\n",
      "Processing Record 27 of Set 9 | san andres\n",
      "Processing Record 28 of Set 9 | guerrero negro\n",
      "Processing Record 29 of Set 9 | manjacaze\n",
      "Processing Record 30 of Set 9 | muroto\n",
      "Processing Record 31 of Set 9 | ugoofaaru\n",
      "Processing Record 32 of Set 9 | chippewa falls\n",
      "Processing Record 33 of Set 9 | nanortalik\n",
      "Processing Record 34 of Set 9 | petropavlovsk-kamchatskiy\n",
      "Processing Record 35 of Set 9 | energeticheskiy\n",
      "Processing Record 36 of Set 9 | kieta\n",
      "Processing Record 37 of Set 9 | santa cruz\n",
      "Processing Record 38 of Set 9 | port hedland\n",
      "Processing Record 39 of Set 9 | muravlenko\n",
      "Processing Record 40 of Set 9 | navabad\n",
      "Missing city. Skipping...\n",
      "Processing Record 41 of Set 9 | codrington\n",
      "Processing Record 42 of Set 9 | korem\n",
      "Processing Record 43 of Set 9 | solovetskiy\n",
      "Missing city. Skipping...\n",
      "Processing Record 44 of Set 9 | daru\n",
      "Processing Record 45 of Set 9 | pop\n",
      "Processing Record 46 of Set 9 | belaya gora\n",
      "Processing Record 47 of Set 9 | pueblo\n",
      "Processing Record 48 of Set 9 | matara\n",
      "Processing Record 49 of Set 9 | westpunt\n",
      "Missing city. Skipping...\n",
      "Processing Record 0 of Set 10 | ranau\n",
      "Processing Record 1 of Set 10 | mahebourg\n",
      "Processing Record 2 of Set 10 | port moresby\n",
      "Processing Record 3 of Set 10 | port hawkesbury\n",
      "Processing Record 4 of Set 10 | acajutla\n",
      "Processing Record 5 of Set 10 | sola\n",
      "Processing Record 6 of Set 10 | coromandel\n",
      "Processing Record 7 of Set 10 | ostrovnoy\n",
      "Processing Record 8 of Set 10 | ukiah\n",
      "Processing Record 9 of Set 10 | isla mujeres\n",
      "Processing Record 10 of Set 10 | kaseda\n",
      "Processing Record 11 of Set 10 | dhankuta\n",
      "Processing Record 12 of Set 10 | varhaug\n",
      "Processing Record 13 of Set 10 | poltavka\n",
      "Processing Record 14 of Set 10 | beian\n",
      "Processing Record 15 of Set 10 | baykit\n",
      "Processing Record 16 of Set 10 | dongsheng\n",
      "Processing Record 17 of Set 10 | sao filipe\n",
      "Processing Record 18 of Set 10 | bilma\n",
      "Processing Record 19 of Set 10 | barcelos\n",
      "Processing Record 20 of Set 10 | karratha\n",
      "Processing Record 21 of Set 10 | marzuq\n",
      "Processing Record 22 of Set 10 | puerto madero\n",
      "Processing Record 23 of Set 10 | belyy yar\n",
      "Processing Record 24 of Set 10 | whitianga\n",
      "Processing Record 25 of Set 10 | itarema\n",
      "Processing Record 26 of Set 10 | galle\n",
      "Processing Record 27 of Set 10 | narsaq\n",
      "Processing Record 28 of Set 10 | tiarei\n",
      "Processing Record 29 of Set 10 | margate\n",
      "Processing Record 30 of Set 10 | tokur\n",
      "Processing Record 31 of Set 10 | awjilah\n",
      "Processing Record 32 of Set 10 | tateyama\n",
      "Processing Record 33 of Set 10 | hatton\n",
      "Processing Record 34 of Set 10 | baza\n",
      "Processing Record 35 of Set 10 | oudtshoorn\n",
      "Processing Record 36 of Set 10 | saint anthony\n",
      "Processing Record 37 of Set 10 | mayumba\n",
      "Processing Record 38 of Set 10 | grand centre\n",
      "Missing city. Skipping...\n",
      "Processing Record 39 of Set 10 | balkhash\n",
      "Processing Record 40 of Set 10 | baturaja\n",
      "Processing Record 41 of Set 10 | point pleasant\n",
      "Processing Record 42 of Set 10 | moose factory\n",
      "Processing Record 43 of Set 10 | ambanja\n",
      "Processing Record 44 of Set 10 | aktau\n",
      "Processing Record 45 of Set 10 | muros\n",
      "Processing Record 46 of Set 10 | constantine\n",
      "Processing Record 47 of Set 10 | zafra\n",
      "Processing Record 48 of Set 10 | katha\n",
      "Missing city. Skipping...\n",
      "Processing Record 49 of Set 10 | altay\n",
      "Processing Record 0 of Set 11 | cordele\n",
      "Processing Record 1 of Set 11 | svelgen\n",
      "Processing Record 2 of Set 11 | manacapuru\n",
      "Processing Record 3 of Set 11 | kendari\n",
      "Processing Record 4 of Set 11 | vyartsilya\n",
      "Processing Record 5 of Set 11 | yerbogachen\n",
      "Processing Record 6 of Set 11 | khani\n",
      "Processing Record 7 of Set 11 | port elizabeth\n",
      "Processing Record 8 of Set 11 | teya\n",
      "Processing Record 9 of Set 11 | saint george\n",
      "Processing Record 10 of Set 11 | antalaha\n",
      "Processing Record 11 of Set 11 | adet\n",
      "Processing Record 12 of Set 11 | sao luis\n",
      "Processing Record 13 of Set 11 | skagen\n",
      "Processing Record 14 of Set 11 | aflu\n",
      "Missing city. Skipping...\n",
      "Processing Record 15 of Set 11 | takhtamygda\n",
      "Processing Record 16 of Set 11 | ovsyanka\n",
      "Processing Record 17 of Set 11 | dinsor\n",
      "Missing city. Skipping...\n",
      "Processing Record 18 of Set 11 | freeport\n",
      "Processing Record 19 of Set 11 | hun\n",
      "Processing Record 20 of Set 11 | esperance\n",
      "Processing Record 21 of Set 11 | vostok\n",
      "Processing Record 22 of Set 11 | bremerton\n",
      "Processing Record 23 of Set 11 | sahbuz\n",
      "Processing Record 24 of Set 11 | komsomolskiy\n",
      "Processing Record 25 of Set 11 | ati\n",
      "Processing Record 26 of Set 11 | changji\n",
      "Processing Record 27 of Set 11 | nemuro\n",
      "Processing Record 28 of Set 11 | quthing\n",
      "Processing Record 29 of Set 11 | costa rica\n",
      "Processing Record 30 of Set 11 | huejuquilla el alto\n",
      "Processing Record 31 of Set 11 | nouadhibou\n",
      "Processing Record 32 of Set 11 | westport\n",
      "Processing Record 33 of Set 11 | honningsvag\n",
      "Processing Record 34 of Set 11 | saint-augustin\n",
      "Processing Record 35 of Set 11 | hambantota\n",
      "Processing Record 36 of Set 11 | archidona\n",
      "Processing Record 37 of Set 11 | asadabad\n",
      "Processing Record 38 of Set 11 | seddon\n",
      "Processing Record 39 of Set 11 | tambura\n",
      "Processing Record 40 of Set 11 | kaeo\n",
      "Processing Record 41 of Set 11 | tsevie\n",
      "Processing Record 42 of Set 11 | singaparna\n",
      "Processing Record 43 of Set 11 | san isidro\n",
      "Processing Record 44 of Set 11 | portland\n",
      "Processing Record 45 of Set 11 | storsteinnes\n",
      "Processing Record 46 of Set 11 | nueva helvecia\n",
      "Processing Record 47 of Set 11 | buala\n",
      "Processing Record 48 of Set 11 | puerto lopez\n",
      "Processing Record 49 of Set 11 | lushunkou\n",
      "Missing city. Skipping...\n",
      "Processing Record 0 of Set 12 | okhotsk\n",
      "Processing Record 1 of Set 12 | wurzen\n",
      "Processing Record 2 of Set 12 | orlik\n",
      "Processing Record 3 of Set 12 | tsaratanana\n",
      "Processing Record 4 of Set 12 | sataua\n",
      "Missing city. Skipping...\n",
      "Processing Record 5 of Set 12 | black forest\n",
      "Processing Record 6 of Set 12 | sangin\n",
      "Processing Record 7 of Set 12 | asau\n",
      "Processing Record 8 of Set 12 | araguaina\n",
      "Processing Record 9 of Set 12 | marsa matruh\n",
      "Processing Record 10 of Set 12 | bafia\n",
      "Processing Record 11 of Set 12 | maumere\n"
     ]
    },
    {
     "name": "stdout",
     "output_type": "stream",
     "text": [
      "Processing Record 12 of Set 12 | ponta delgada\n",
      "Processing Record 13 of Set 12 | lagoa\n",
      "Processing Record 14 of Set 12 | bhera\n",
      "Processing Record 15 of Set 12 | moratuwa\n",
      "Processing Record 16 of Set 12 | nenjiang\n",
      "Processing Record 17 of Set 12 | necochea\n",
      "Processing Record 18 of Set 12 | rafai\n",
      "Processing Record 19 of Set 12 | kamenskoye\n",
      "Missing city. Skipping...\n",
      "Processing Record 20 of Set 12 | lokosovo\n",
      "Processing Record 21 of Set 12 | lazaro cardenas\n",
      "Processing Record 22 of Set 12 | srednekolymsk\n",
      "Processing Record 23 of Set 12 | kupang\n",
      "Processing Record 24 of Set 12 | dzhusaly\n",
      "Missing city. Skipping...\n",
      "Processing Record 25 of Set 12 | yaan\n",
      "Processing Record 26 of Set 12 | juarez\n",
      "Processing Record 27 of Set 12 | finschhafen\n",
      "Processing Record 28 of Set 12 | lusambo\n",
      "Processing Record 29 of Set 12 | pochutla\n",
      "Processing Record 30 of Set 12 | kabanga\n",
      "Processing Record 31 of Set 12 | kangaatsiaq\n",
      "Processing Record 32 of Set 12 | dwarka\n",
      "Processing Record 33 of Set 12 | dingle\n",
      "Processing Record 34 of Set 12 | danville\n",
      "Processing Record 35 of Set 12 | nago\n",
      "Processing Record 36 of Set 12 | hienghene\n",
      "Processing Record 37 of Set 12 | camden\n",
      "Processing Record 38 of Set 12 | atamanovka\n",
      "Processing Record 39 of Set 12 | nisia floresta\n",
      "Processing Record 40 of Set 12 | agadir\n",
      "Processing Record 41 of Set 12 | shingu\n",
      "Processing Record 42 of Set 12 | hermagor\n",
      "Processing Record 43 of Set 12 | champerico\n",
      "Processing Record 44 of Set 12 | labuhan\n",
      "Processing Record 45 of Set 12 | ostersund\n",
      "Processing Record 46 of Set 12 | north myrtle beach\n",
      "Processing Record 47 of Set 12 | felipe carrillo puerto\n",
      "Processing Record 48 of Set 12 | borogontsy\n",
      "Processing Record 49 of Set 12 | batagay\n",
      "Processing Record 0 of Set 13 | pilao arcado\n",
      "Missing city. Skipping...\n",
      "Processing Record 1 of Set 13 | stokmarknes\n",
      "Processing Record 2 of Set 13 | san ramon\n",
      "Processing Record 3 of Set 13 | otjiwarongo\n",
      "Processing Record 4 of Set 13 | mount isa\n",
      "Processing Record 5 of Set 13 | saint-leu\n",
      "Processing Record 6 of Set 13 | porto murtinho\n",
      "Processing Record 7 of Set 13 | morant bay\n",
      "Processing Record 8 of Set 13 | coari\n",
      "Processing Record 9 of Set 13 | lima\n",
      "Processing Record 10 of Set 13 | dillon\n",
      "Processing Record 11 of Set 13 | bulawayo\n",
      "Processing Record 12 of Set 13 | emerald\n"
     ]
    }
   ],
   "source": [
    "city_url = \"http://api.openweathermap.org/data/2.5/weather?\"\n",
    "units = \"imperial\"\n",
    "\n",
    "# partial query URL\n",
    "query_url = f\"{city_url}appid={weather_api_key}&units={units}&q=\"\n",
    "\n",
    "cities = cities_df[\"City\"]\n",
    "\n",
    "for index, row in cities_df.iterrows():\n",
    "    \n",
    "    city = row[\"City\"]\n",
    "    \n",
    "    response = requests.get(query_url + city)\n",
    "    city_info = response.json()\n",
    "    \n",
    "    #print(json.dumps(city_info, indent=3, sort_keys=True))\n",
    "    try:\n",
    "        print(f\"Processing Record {(index+1)%50} of Set {(index+1)//50+1} | {cities[index]}\")\n",
    "        cities_df.loc[index, \"Country\"] = city_info['sys']['country']\n",
    "        cities_df.loc[index, \"Lat\"] = city_info['coord']['lat']\n",
    "        cities_df.loc[index, \"Lng\"] = city_info['coord']['lon']\n",
    "        cities_df.loc[index, \"Temp (F)\"] = city_info['main']['temp']\n",
    "        cities_df.loc[index, \"Humidity\"] = city_info['main']['humidity']\n",
    "        cities_df.loc[index, \"Wind Speed (mph)\"] = city_info['wind']['speed']\n",
    "        cities_df.loc[index, \"Cloudiness\"] = city_info['clouds']['all']\n",
    "        cities_df.loc[index, \"Date\"] = city_info['dt']\n",
    "        \n",
    "    except Exception:\n",
    "        print(\"Missing city. Skipping...\")\n",
    "    \n",
    "\n"
   ]
  },
  {
   "cell_type": "code",
   "execution_count": 7,
   "metadata": {},
   "outputs": [
    {
     "data": {
      "text/html": [
       "<div>\n",
       "<style scoped>\n",
       "    .dataframe tbody tr th:only-of-type {\n",
       "        vertical-align: middle;\n",
       "    }\n",
       "\n",
       "    .dataframe tbody tr th {\n",
       "        vertical-align: top;\n",
       "    }\n",
       "\n",
       "    .dataframe thead th {\n",
       "        text-align: right;\n",
       "    }\n",
       "</style>\n",
       "<table border=\"1\" class=\"dataframe\">\n",
       "  <thead>\n",
       "    <tr style=\"text-align: right;\">\n",
       "      <th></th>\n",
       "      <th>City</th>\n",
       "      <th>Country</th>\n",
       "      <th>Lat</th>\n",
       "      <th>Lng</th>\n",
       "      <th>Temp (F)</th>\n",
       "      <th>Humidity</th>\n",
       "      <th>Wind Speed (mph)</th>\n",
       "      <th>Cloudiness</th>\n",
       "      <th>Date</th>\n",
       "    </tr>\n",
       "  </thead>\n",
       "  <tbody>\n",
       "    <tr>\n",
       "      <th>0</th>\n",
       "      <td>victoria</td>\n",
       "      <td>HK</td>\n",
       "      <td>22.29</td>\n",
       "      <td>114.16</td>\n",
       "      <td>72.46</td>\n",
       "      <td>82</td>\n",
       "      <td>1.01</td>\n",
       "      <td>57</td>\n",
       "      <td>1603738534</td>\n",
       "    </tr>\n",
       "    <tr>\n",
       "      <th>1</th>\n",
       "      <td>gravdal</td>\n",
       "      <td>NO</td>\n",
       "      <td>68.12</td>\n",
       "      <td>13.5</td>\n",
       "      <td>48.2</td>\n",
       "      <td>70</td>\n",
       "      <td>20.8</td>\n",
       "      <td>75</td>\n",
       "      <td>1603738806</td>\n",
       "    </tr>\n",
       "    <tr>\n",
       "      <th>2</th>\n",
       "      <td>vaasa</td>\n",
       "      <td>FI</td>\n",
       "      <td>63.1</td>\n",
       "      <td>21.62</td>\n",
       "      <td>46.22</td>\n",
       "      <td>100</td>\n",
       "      <td>8.05</td>\n",
       "      <td>90</td>\n",
       "      <td>1603738807</td>\n",
       "    </tr>\n",
       "    <tr>\n",
       "      <th>3</th>\n",
       "      <td>qaanaaq</td>\n",
       "      <td>GL</td>\n",
       "      <td>77.48</td>\n",
       "      <td>-69.36</td>\n",
       "      <td>8.2</td>\n",
       "      <td>74</td>\n",
       "      <td>9.19</td>\n",
       "      <td>88</td>\n",
       "      <td>1603738601</td>\n",
       "    </tr>\n",
       "    <tr>\n",
       "      <th>4</th>\n",
       "      <td>hermanus</td>\n",
       "      <td>ZA</td>\n",
       "      <td>-34.42</td>\n",
       "      <td>19.23</td>\n",
       "      <td>64</td>\n",
       "      <td>85</td>\n",
       "      <td>5.01</td>\n",
       "      <td>100</td>\n",
       "      <td>1603738807</td>\n",
       "    </tr>\n",
       "  </tbody>\n",
       "</table>\n",
       "</div>"
      ],
      "text/plain": [
       "       City Country    Lat     Lng Temp (F) Humidity Wind Speed (mph)  \\\n",
       "0  victoria      HK  22.29  114.16    72.46       82             1.01   \n",
       "1   gravdal      NO  68.12    13.5     48.2       70             20.8   \n",
       "2     vaasa      FI   63.1   21.62    46.22      100             8.05   \n",
       "3   qaanaaq      GL  77.48  -69.36      8.2       74             9.19   \n",
       "4  hermanus      ZA -34.42   19.23       64       85             5.01   \n",
       "\n",
       "  Cloudiness        Date  \n",
       "0         57  1603738534  \n",
       "1         75  1603738806  \n",
       "2         90  1603738807  \n",
       "3         88  1603738601  \n",
       "4        100  1603738807  "
      ]
     },
     "execution_count": 7,
     "metadata": {},
     "output_type": "execute_result"
    }
   ],
   "source": [
    "cities_df.head()"
   ]
  },
  {
   "cell_type": "markdown",
   "metadata": {},
   "source": [
    "### Convert Raw Data to DataFrame\n",
    "* Export the city data into a .csv.\n",
    "* Display the DataFrame"
   ]
  },
  {
   "cell_type": "markdown",
   "metadata": {},
   "source": [
    "## Inspect the data and remove the cities where the humidity > 100%.\n",
    "----\n",
    "Skip this step if there are no cities that have humidity > 100%. "
   ]
  },
  {
   "cell_type": "code",
   "execution_count": 24,
   "metadata": {},
   "outputs": [
    {
     "data": {
      "text/plain": [
       "Int64Index([], dtype='int64')"
      ]
     },
     "execution_count": 24,
     "metadata": {},
     "output_type": "execute_result"
    }
   ],
   "source": [
    "#  Get the indices of cities that have humidity over 100%.\n",
    "dirty_city = cities_df[(cities_df[\"Humidity\"] > 100)].index\n",
    "dirty_city\n",
    "\n",
    "# result is 0"
   ]
  },
  {
   "cell_type": "code",
   "execution_count": 25,
   "metadata": {},
   "outputs": [
    {
     "data": {
      "text/html": [
       "<div>\n",
       "<style scoped>\n",
       "    .dataframe tbody tr th:only-of-type {\n",
       "        vertical-align: middle;\n",
       "    }\n",
       "\n",
       "    .dataframe tbody tr th {\n",
       "        vertical-align: top;\n",
       "    }\n",
       "\n",
       "    .dataframe thead th {\n",
       "        text-align: right;\n",
       "    }\n",
       "</style>\n",
       "<table border=\"1\" class=\"dataframe\">\n",
       "  <thead>\n",
       "    <tr style=\"text-align: right;\">\n",
       "      <th></th>\n",
       "      <th>City</th>\n",
       "      <th>Country</th>\n",
       "      <th>Lat</th>\n",
       "      <th>Lng</th>\n",
       "      <th>Temp (F)</th>\n",
       "      <th>Humidity</th>\n",
       "      <th>Wind Speed (mph)</th>\n",
       "      <th>Cloudiness</th>\n",
       "      <th>Date</th>\n",
       "    </tr>\n",
       "  </thead>\n",
       "  <tbody>\n",
       "    <tr>\n",
       "      <th>0</th>\n",
       "      <td>victoria</td>\n",
       "      <td>HK</td>\n",
       "      <td>22.29</td>\n",
       "      <td>114.16</td>\n",
       "      <td>72.46</td>\n",
       "      <td>82.0</td>\n",
       "      <td>1.01</td>\n",
       "      <td>57.0</td>\n",
       "      <td>1.603739e+09</td>\n",
       "    </tr>\n",
       "    <tr>\n",
       "      <th>1</th>\n",
       "      <td>gravdal</td>\n",
       "      <td>NO</td>\n",
       "      <td>68.12</td>\n",
       "      <td>13.50</td>\n",
       "      <td>48.20</td>\n",
       "      <td>70.0</td>\n",
       "      <td>20.80</td>\n",
       "      <td>75.0</td>\n",
       "      <td>1.603739e+09</td>\n",
       "    </tr>\n",
       "    <tr>\n",
       "      <th>2</th>\n",
       "      <td>vaasa</td>\n",
       "      <td>FI</td>\n",
       "      <td>63.10</td>\n",
       "      <td>21.62</td>\n",
       "      <td>46.22</td>\n",
       "      <td>100.0</td>\n",
       "      <td>8.05</td>\n",
       "      <td>90.0</td>\n",
       "      <td>1.603739e+09</td>\n",
       "    </tr>\n",
       "    <tr>\n",
       "      <th>3</th>\n",
       "      <td>qaanaaq</td>\n",
       "      <td>GL</td>\n",
       "      <td>77.48</td>\n",
       "      <td>-69.36</td>\n",
       "      <td>8.20</td>\n",
       "      <td>74.0</td>\n",
       "      <td>9.19</td>\n",
       "      <td>88.0</td>\n",
       "      <td>1.603739e+09</td>\n",
       "    </tr>\n",
       "    <tr>\n",
       "      <th>4</th>\n",
       "      <td>hermanus</td>\n",
       "      <td>ZA</td>\n",
       "      <td>-34.42</td>\n",
       "      <td>19.23</td>\n",
       "      <td>64.00</td>\n",
       "      <td>85.0</td>\n",
       "      <td>5.01</td>\n",
       "      <td>100.0</td>\n",
       "      <td>1.603739e+09</td>\n",
       "    </tr>\n",
       "  </tbody>\n",
       "</table>\n",
       "</div>"
      ],
      "text/plain": [
       "       City Country    Lat     Lng  Temp (F)  Humidity  Wind Speed (mph)  \\\n",
       "0  victoria      HK  22.29  114.16     72.46      82.0              1.01   \n",
       "1   gravdal      NO  68.12   13.50     48.20      70.0             20.80   \n",
       "2     vaasa      FI  63.10   21.62     46.22     100.0              8.05   \n",
       "3   qaanaaq      GL  77.48  -69.36      8.20      74.0              9.19   \n",
       "4  hermanus      ZA -34.42   19.23     64.00      85.0              5.01   \n",
       "\n",
       "   Cloudiness          Date  \n",
       "0        57.0  1.603739e+09  \n",
       "1        75.0  1.603739e+09  \n",
       "2        90.0  1.603739e+09  \n",
       "3        88.0  1.603739e+09  \n",
       "4       100.0  1.603739e+09  "
      ]
     },
     "execution_count": 25,
     "metadata": {},
     "output_type": "execute_result"
    }
   ],
   "source": [
    "# Make a new DataFrame equal to the city data to drop all humidity outliers by index.\n",
    "# Passing \"inplace=False\" will make a copy of the city_data DataFrame, which we call \"clean_city_data\".\n",
    "clean_city_data = cities_df.drop(dirty_city, inplace=False)\n",
    "clean_city_data.head()\n"
   ]
  },
  {
   "cell_type": "code",
   "execution_count": 29,
   "metadata": {},
   "outputs": [],
   "source": [
    "lats = clean_city_data[\"Lat\"]\n",
    "max_temps = clean_city_data[\"Temp (F)\"]\n",
    "humidity = clean_city_data[\"Humidity\"]\n",
    "cloudiness = clean_city_data[\"Cloudiness\"]\n",
    "wind_speed = clean_city_data[\"Wind Speed (mph)\"]\n",
    "\n",
    "clean_city_data.to_csv(\"Output/cities.csv\", index_label=\"City_ID\")"
   ]
  },
  {
   "cell_type": "markdown",
   "metadata": {},
   "source": [
    "## Plotting the Data\n",
    "* Use proper labeling of the plots using plot titles (including date of analysis) and axes labels.\n",
    "* Save the plotted figures as .pngs."
   ]
  },
  {
   "cell_type": "markdown",
   "metadata": {},
   "source": [
    "## Latitude vs. Temperature Plot"
   ]
  },
  {
   "cell_type": "code",
   "execution_count": 34,
   "metadata": {},
   "outputs": [
    {
     "data": {
      "image/png": "[encoded data removed]",
      "text/plain": [
       "<Figure size 432x288 with 1 Axes>"
      ]
     },
     "metadata": {
      "needs_background": "light"
     },
     "output_type": "display_data"
    }
   ],
   "source": [
    "plt.scatter(lats, max_temps, edgecolor=\"black\")\n",
    "\n",
    "\n",
    "plt.title(\"Latitude vs. Temperature\")\n",
    "plt.ylabel(\"Temperature (F)\")\n",
    "plt.xlabel(\"Latitude\")\n",
    "plt.grid(True)\n",
    "\n",
    "# Save the figure\n",
    "plt.savefig(\"Output/lat_temp.png\")\n",
    "\n",
    "# Show plot\n",
    "plt.show()"
   ]
  },
  {
   "cell_type": "markdown",
   "metadata": {},
   "source": [
    "## Latitude vs. Humidity Plot"
   ]
  },
  {
   "cell_type": "code",
   "execution_count": 35,
   "metadata": {},
   "outputs": [
    {
     "data": {
      "image/png": "[encoded data removed]",
      "text/plain": [
       "<Figure size 432x288 with 1 Axes>"
      ]
     },
     "metadata": {
      "needs_background": "light"
     },
     "output_type": "display_data"
    }
   ],
   "source": [
    "plt.scatter(lats, humidity, edgecolor=\"black\")\n",
    "\n",
    "\n",
    "plt.title(\"Latitude vs. Humidity\")\n",
    "plt.ylabel(\"Humidity\")\n",
    "plt.xlabel(\"Latitude\")\n",
    "plt.grid(True)\n",
    "\n",
    "# Save the figure\n",
    "plt.savefig(\"Output/lat_hum.png\")\n",
    "\n",
    "# Show plot\n",
    "plt.show()"
   ]
  },
  {
   "cell_type": "markdown",
   "metadata": {},
   "source": [
    "## Latitude vs. Cloudiness Plot"
   ]
  },
  {
   "cell_type": "code",
   "execution_count": 36,
   "metadata": {},
   "outputs": [
    {
     "data": {
      "image/png": "[encoded data removed]",
      "text/plain": [
       "<Figure size 432x288 with 1 Axes>"
      ]
     },
     "metadata": {
      "needs_background": "light"
     },
     "output_type": "display_data"
    }
   ],
   "source": [
    "plt.scatter(lats, cloudiness, edgecolor=\"black\")\n",
    "\n",
    "\n",
    "plt.title(\"Latitude vs. Cloudiness\")\n",
    "plt.ylabel(\"Cloudiness\")\n",
    "plt.xlabel(\"Latitude\")\n",
    "plt.grid(True)\n",
    "\n",
    "# Save the figure\n",
    "plt.savefig(\"Output/lat_cloud.png\")\n",
    "\n",
    "# Show plot\n",
    "plt.show()"
   ]
  },
  {
   "cell_type": "markdown",
   "metadata": {},
   "source": [
    "## Latitude vs. Wind Speed Plot"
   ]
  },
  {
   "cell_type": "code",
   "execution_count": 37,
   "metadata": {},
   "outputs": [
    {
     "data": {
      "image/png": "[encoded data removed]",
      "text/plain": [
       "<Figure size 432x288 with 1 Axes>"
      ]
     },
     "metadata": {
      "needs_background": "light"
     },
     "output_type": "display_data"
    }
   ],
   "source": [
    "plt.scatter(lats, wind_speed, edgecolor=\"black\")\n",
    "\n",
    "\n",
    "plt.title(\"Latitude vs. Wind Speed (mph)\")\n",
    "plt.ylabel(\"Wind Speed (mph)\")\n",
    "plt.xlabel(\"Latitude\")\n",
    "plt.grid(True)\n",
    "\n",
    "# Save the figure\n",
    "plt.savefig(\"Output/lat_wind.png\")\n",
    "\n",
    "# Show plot\n",
    "plt.show()"
   ]
  },
  {
   "cell_type": "markdown",
   "metadata": {},
   "source": [
    "## Linear Regression"
   ]
  },
  {
   "cell_type": "code",
   "execution_count": 41,
   "metadata": {},
   "outputs": [],
   "source": [
    "# Create Northern and Southern Hemisphere DataFrames\n",
    "nh_df = clean_city_data.loc[(clean_city_data[\"Lat\"] >= 0)]\n",
    "sh_df = clean_city_data.loc[(clean_city_data[\"Lat\"] < 0)]"
   ]
  },
  {
   "cell_type": "code",
   "execution_count": 42,
   "metadata": {
    "scrolled": true
   },
   "outputs": [
    {
     "data": {
      "text/html": [
       "<div>\n",
       "<style scoped>\n",
       "    .dataframe tbody tr th:only-of-type {\n",
       "        vertical-align: middle;\n",
       "    }\n",
       "\n",
       "    .dataframe tbody tr th {\n",
       "        vertical-align: top;\n",
       "    }\n",
       "\n",
       "    .dataframe thead th {\n",
       "        text-align: right;\n",
       "    }\n",
       "</style>\n",
       "<table border=\"1\" class=\"dataframe\">\n",
       "  <thead>\n",
       "    <tr style=\"text-align: right;\">\n",
       "      <th></th>\n",
       "      <th>City</th>\n",
       "      <th>Country</th>\n",
       "      <th>Lat</th>\n",
       "      <th>Lng</th>\n",
       "      <th>Temp (F)</th>\n",
       "      <th>Humidity</th>\n",
       "      <th>Wind Speed (mph)</th>\n",
       "      <th>Cloudiness</th>\n",
       "      <th>Date</th>\n",
       "    </tr>\n",
       "  </thead>\n",
       "  <tbody>\n",
       "    <tr>\n",
       "      <th>0</th>\n",
       "      <td>victoria</td>\n",
       "      <td>HK</td>\n",
       "      <td>22.29</td>\n",
       "      <td>114.16</td>\n",
       "      <td>72.46</td>\n",
       "      <td>82.0</td>\n",
       "      <td>1.01</td>\n",
       "      <td>57.0</td>\n",
       "      <td>1.603739e+09</td>\n",
       "    </tr>\n",
       "    <tr>\n",
       "      <th>1</th>\n",
       "      <td>gravdal</td>\n",
       "      <td>NO</td>\n",
       "      <td>68.12</td>\n",
       "      <td>13.50</td>\n",
       "      <td>48.20</td>\n",
       "      <td>70.0</td>\n",
       "      <td>20.80</td>\n",
       "      <td>75.0</td>\n",
       "      <td>1.603739e+09</td>\n",
       "    </tr>\n",
       "    <tr>\n",
       "      <th>2</th>\n",
       "      <td>vaasa</td>\n",
       "      <td>FI</td>\n",
       "      <td>63.10</td>\n",
       "      <td>21.62</td>\n",
       "      <td>46.22</td>\n",
       "      <td>100.0</td>\n",
       "      <td>8.05</td>\n",
       "      <td>90.0</td>\n",
       "      <td>1.603739e+09</td>\n",
       "    </tr>\n",
       "    <tr>\n",
       "      <th>3</th>\n",
       "      <td>qaanaaq</td>\n",
       "      <td>GL</td>\n",
       "      <td>77.48</td>\n",
       "      <td>-69.36</td>\n",
       "      <td>8.20</td>\n",
       "      <td>74.0</td>\n",
       "      <td>9.19</td>\n",
       "      <td>88.0</td>\n",
       "      <td>1.603739e+09</td>\n",
       "    </tr>\n",
       "    <tr>\n",
       "      <th>10</th>\n",
       "      <td>saskylakh</td>\n",
       "      <td>RU</td>\n",
       "      <td>71.92</td>\n",
       "      <td>114.08</td>\n",
       "      <td>4.06</td>\n",
       "      <td>93.0</td>\n",
       "      <td>5.88</td>\n",
       "      <td>98.0</td>\n",
       "      <td>1.603739e+09</td>\n",
       "    </tr>\n",
       "  </tbody>\n",
       "</table>\n",
       "</div>"
      ],
      "text/plain": [
       "         City Country    Lat     Lng  Temp (F)  Humidity  Wind Speed (mph)  \\\n",
       "0    victoria      HK  22.29  114.16     72.46      82.0              1.01   \n",
       "1     gravdal      NO  68.12   13.50     48.20      70.0             20.80   \n",
       "2       vaasa      FI  63.10   21.62     46.22     100.0              8.05   \n",
       "3     qaanaaq      GL  77.48  -69.36      8.20      74.0              9.19   \n",
       "10  saskylakh      RU  71.92  114.08      4.06      93.0              5.88   \n",
       "\n",
       "    Cloudiness          Date  \n",
       "0         57.0  1.603739e+09  \n",
       "1         75.0  1.603739e+09  \n",
       "2         90.0  1.603739e+09  \n",
       "3         88.0  1.603739e+09  \n",
       "10        98.0  1.603739e+09  "
      ]
     },
     "execution_count": 42,
     "metadata": {},
     "output_type": "execute_result"
    }
   ],
   "source": [
    "nh_df.head()"
   ]
  },
  {
   "cell_type": "code",
   "execution_count": 43,
   "metadata": {},
   "outputs": [
    {
     "data": {
      "text/html": [
       "<div>\n",
       "<style scoped>\n",
       "    .dataframe tbody tr th:only-of-type {\n",
       "        vertical-align: middle;\n",
       "    }\n",
       "\n",
       "    .dataframe tbody tr th {\n",
       "        vertical-align: top;\n",
       "    }\n",
       "\n",
       "    .dataframe thead th {\n",
       "        text-align: right;\n",
       "    }\n",
       "</style>\n",
       "<table border=\"1\" class=\"dataframe\">\n",
       "  <thead>\n",
       "    <tr style=\"text-align: right;\">\n",
       "      <th></th>\n",
       "      <th>City</th>\n",
       "      <th>Country</th>\n",
       "      <th>Lat</th>\n",
       "      <th>Lng</th>\n",
       "      <th>Temp (F)</th>\n",
       "      <th>Humidity</th>\n",
       "      <th>Wind Speed (mph)</th>\n",
       "      <th>Cloudiness</th>\n",
       "      <th>Date</th>\n",
       "    </tr>\n",
       "  </thead>\n",
       "  <tbody>\n",
       "    <tr>\n",
       "      <th>4</th>\n",
       "      <td>hermanus</td>\n",
       "      <td>ZA</td>\n",
       "      <td>-34.42</td>\n",
       "      <td>19.23</td>\n",
       "      <td>64.00</td>\n",
       "      <td>85.0</td>\n",
       "      <td>5.01</td>\n",
       "      <td>100.0</td>\n",
       "      <td>1.603739e+09</td>\n",
       "    </tr>\n",
       "    <tr>\n",
       "      <th>5</th>\n",
       "      <td>atuona</td>\n",
       "      <td>PF</td>\n",
       "      <td>-9.80</td>\n",
       "      <td>-139.03</td>\n",
       "      <td>79.14</td>\n",
       "      <td>73.0</td>\n",
       "      <td>19.33</td>\n",
       "      <td>85.0</td>\n",
       "      <td>1.603739e+09</td>\n",
       "    </tr>\n",
       "    <tr>\n",
       "      <th>7</th>\n",
       "      <td>new norfolk</td>\n",
       "      <td>AU</td>\n",
       "      <td>-42.78</td>\n",
       "      <td>147.06</td>\n",
       "      <td>46.58</td>\n",
       "      <td>65.0</td>\n",
       "      <td>1.36</td>\n",
       "      <td>100.0</td>\n",
       "      <td>1.603739e+09</td>\n",
       "    </tr>\n",
       "    <tr>\n",
       "      <th>8</th>\n",
       "      <td>cape town</td>\n",
       "      <td>ZA</td>\n",
       "      <td>-33.93</td>\n",
       "      <td>18.42</td>\n",
       "      <td>66.61</td>\n",
       "      <td>77.0</td>\n",
       "      <td>11.41</td>\n",
       "      <td>0.0</td>\n",
       "      <td>1.603739e+09</td>\n",
       "    </tr>\n",
       "    <tr>\n",
       "      <th>9</th>\n",
       "      <td>busselton</td>\n",
       "      <td>AU</td>\n",
       "      <td>-33.65</td>\n",
       "      <td>115.33</td>\n",
       "      <td>54.72</td>\n",
       "      <td>74.0</td>\n",
       "      <td>5.95</td>\n",
       "      <td>8.0</td>\n",
       "      <td>1.603739e+09</td>\n",
       "    </tr>\n",
       "  </tbody>\n",
       "</table>\n",
       "</div>"
      ],
      "text/plain": [
       "          City Country    Lat     Lng  Temp (F)  Humidity  Wind Speed (mph)  \\\n",
       "4     hermanus      ZA -34.42   19.23     64.00      85.0              5.01   \n",
       "5       atuona      PF  -9.80 -139.03     79.14      73.0             19.33   \n",
       "7  new norfolk      AU -42.78  147.06     46.58      65.0              1.36   \n",
       "8    cape town      ZA -33.93   18.42     66.61      77.0             11.41   \n",
       "9    busselton      AU -33.65  115.33     54.72      74.0              5.95   \n",
       "\n",
       "   Cloudiness          Date  \n",
       "4       100.0  1.603739e+09  \n",
       "5        85.0  1.603739e+09  \n",
       "7       100.0  1.603739e+09  \n",
       "8         0.0  1.603739e+09  \n",
       "9         8.0  1.603739e+09  "
      ]
     },
     "execution_count": 43,
     "metadata": {},
     "output_type": "execute_result"
    }
   ],
   "source": [
    "sh_df.head()"
   ]
  },
  {
   "cell_type": "markdown",
   "metadata": {},
   "source": [
    "####  Northern Hemisphere - Max Temp vs. Latitude Linear Regression"
   ]
  },
  {
   "cell_type": "code",
   "execution_count": 49,
   "metadata": {},
   "outputs": [
    {
     "name": "stdout",
     "output_type": "stream",
     "text": [
      "The r-value is: 0.753937052734239\n"
     ]
    },
    {
     "data": {
      "image/png": "[encoded data removed]",
      "text/plain": [
       "<Figure size 432x288 with 1 Axes>"
      ]
     },
     "metadata": {
      "needs_background": "light"
     },
     "output_type": "display_data"
    }
   ],
   "source": [
    "x_values = nh_df[\"Lat\"]\n",
    "y_values = nh_df[\"Temp (F)\"]\n",
    "\n",
    "(slope, intercept, rvalue, pvalue, stderr) = linregress(x_values, y_values)\n",
    "regress_values = x_values*slope+intercept\n",
    "line_eq = \"y=\"+str(round(slope, 2))+\"x+\"+str(round(intercept, 2))\n",
    "\n",
    "plt.scatter(x_values, y_values)\n",
    "plt.plot(x_values, regress_values, \"r-\")\n",
    "plt.annotate(line_eq, (5,20), fontsize=15, color=\"red\")\n",
    "plt.xlabel(\"NH Latitude\")\n",
    "plt.ylabel(\"NH Temperature\")\n",
    "print(f\"The r-value is: {rvalue**2}\")\n",
    "\n",
    "# Save the figure\n",
    "plt.savefig(\"Output/reg_nh_lat_temp.png\")\n",
    "\n",
    "# Show plot\n",
    "plt.show()"
   ]
  },
  {
   "cell_type": "markdown",
   "metadata": {},
   "source": [
    "####  Southern Hemisphere - Max Temp vs. Latitude Linear Regression"
   ]
  },
  {
   "cell_type": "code",
   "execution_count": 51,
   "metadata": {},
   "outputs": [
    {
     "name": "stdout",
     "output_type": "stream",
     "text": [
      "The r-value is: 0.6269902407983186\n"
     ]
    },
    {
     "data": {
      "image/png": "[encoded data removed]",
      "text/plain": [
       "<Figure size 432x288 with 1 Axes>"
      ]
     },
     "metadata": {
      "needs_background": "light"
     },
     "output_type": "display_data"
    }
   ],
   "source": [
    "x_values = sh_df[\"Lat\"]\n",
    "y_values = sh_df[\"Temp (F)\"]\n",
    "\n",
    "(slope, intercept, rvalue, pvalue, stderr) = linregress(x_values, y_values)\n",
    "regress_values = x_values*slope+intercept\n",
    "line_eq = \"y=\"+str(round(slope, 2))+\"x+\"+str(round(intercept, 2))\n",
    "\n",
    "plt.scatter(x_values, y_values)\n",
    "plt.plot(x_values, regress_values, \"r-\")\n",
    "plt.annotate(line_eq, (-25,50), fontsize=15, color=\"red\")\n",
    "plt.xlabel(\"SH Latitude\")\n",
    "plt.ylabel(\"SH Temperature\")\n",
    "print(f\"The r-value is: {rvalue**2}\")\n",
    "\n",
    "# Save the figure\n",
    "plt.savefig(\"Output/reg_sh_lat_temp.png\")\n",
    "\n",
    "# Show plot\n",
    "plt.show()"
   ]
  },
  {
   "cell_type": "markdown",
   "metadata": {},
   "source": [
    "####  Northern Hemisphere - Humidity (%) vs. Latitude Linear Regression"
   ]
  },
  {
   "cell_type": "code",
   "execution_count": 54,
   "metadata": {},
   "outputs": [
    {
     "name": "stdout",
     "output_type": "stream",
     "text": [
      "The r-value is: 0.08563073059219399\n"
     ]
    },
    {
     "data": {
      "image/png": "[encoded data removed]",
      "text/plain": [
       "<Figure size 432x288 with 1 Axes>"
      ]
     },
     "metadata": {
      "needs_background": "light"
     },
     "output_type": "display_data"
    }
   ],
   "source": [
    "x_values = nh_df[\"Lat\"]\n",
    "y_values = nh_df[\"Humidity\"]\n",
    "\n",
    "(slope, intercept, rvalue, pvalue, stderr) = linregress(x_values, y_values)\n",
    "regress_values = x_values*slope+intercept\n",
    "line_eq = \"y=\"+str(round(slope, 2))+\"x+\"+str(round(intercept, 2))\n",
    "\n",
    "plt.scatter(x_values, y_values)\n",
    "plt.plot(x_values, regress_values, \"r-\")\n",
    "plt.annotate(line_eq, (50,18), fontsize=15, color=\"red\")\n",
    "plt.xlabel(\"NH Latitude\")\n",
    "plt.ylabel(\"NH Humidity\")\n",
    "print(f\"The r-value is: {rvalue**2}\")\n",
    "\n",
    "# Save the figure\n",
    "plt.savefig(\"Output/reg_nh_lat_hum.png\")\n",
    "\n",
    "# Show plot\n",
    "plt.show()"
   ]
  },
  {
   "cell_type": "markdown",
   "metadata": {},
   "source": [
    "####  Southern Hemisphere - Humidity (%) vs. Latitude Linear Regression"
   ]
  },
  {
   "cell_type": "code",
   "execution_count": 56,
   "metadata": {},
   "outputs": [
    {
     "name": "stdout",
     "output_type": "stream",
     "text": [
      "The r-value is: 0.000505753166008579\n"
     ]
    },
    {
     "data": {
      "image/png": "[encoded data removed]",
      "text/plain": [
       "<Figure size 432x288 with 1 Axes>"
      ]
     },
     "metadata": {
      "needs_background": "light"
     },
     "output_type": "display_data"
    }
   ],
   "source": [
    "x_values = sh_df[\"Lat\"]\n",
    "y_values = sh_df[\"Humidity\"]\n",
    "\n",
    "(slope, intercept, rvalue, pvalue, stderr) = linregress(x_values, y_values)\n",
    "regress_values = x_values*slope+intercept\n",
    "line_eq = \"y=\"+str(round(slope, 2))+\"x+\"+str(round(intercept, 2))\n",
    "\n",
    "plt.scatter(x_values, y_values)\n",
    "plt.plot(x_values, regress_values, \"r-\")\n",
    "plt.annotate(line_eq, (-55,20), fontsize=15, color=\"red\")\n",
    "plt.xlabel(\"SH Latitude\")\n",
    "plt.ylabel(\"SH Humidity\")\n",
    "print(f\"The r-value is: {rvalue**2}\")\n",
    "\n",
    "# Save the figure\n",
    "plt.savefig(\"Output/reg_sh_lat_hum.png\")\n",
    "\n",
    "# Show plot\n",
    "plt.show()"
   ]
  },
  {
   "cell_type": "markdown",
   "metadata": {},
   "source": [
    "####  Northern Hemisphere - Cloudiness (%) vs. Latitude Linear Regression"
   ]
  },
  {
   "cell_type": "code",
   "execution_count": 58,
   "metadata": {},
   "outputs": [
    {
     "name": "stdout",
     "output_type": "stream",
     "text": [
      "The r-value is: 0.06886790403479211\n"
     ]
    },
    {
     "data": {
      "image/png": "[encoded data removed]",
      "text/plain": [
       "<Figure size 432x288 with 1 Axes>"
      ]
     },
     "metadata": {
      "needs_background": "light"
     },
     "output_type": "display_data"
    }
   ],
   "source": [
    "x_values = nh_df[\"Lat\"]\n",
    "y_values = nh_df[\"Cloudiness\"]\n",
    "\n",
    "(slope, intercept, rvalue, pvalue, stderr) = linregress(x_values, y_values)\n",
    "regress_values = x_values*slope+intercept\n",
    "line_eq = \"y=\"+str(round(slope, 2))+\"x+\"+str(round(intercept, 2))\n",
    "\n",
    "plt.scatter(x_values, y_values)\n",
    "plt.plot(x_values, regress_values, \"r-\")\n",
    "plt.annotate(line_eq, (50,45), fontsize=15, color=\"red\")\n",
    "plt.xlabel(\"NH Latitude\")\n",
    "plt.ylabel(\"NH Cloudiness\")\n",
    "print(f\"The r-value is: {rvalue**2}\")\n",
    "\n",
    "# Save the figure\n",
    "plt.savefig(\"Output/reg_nh_lat_cloud.png\")\n",
    "\n",
    "# Show plot\n",
    "plt.show()"
   ]
  },
  {
   "cell_type": "markdown",
   "metadata": {},
   "source": [
    "####  Southern Hemisphere - Cloudiness (%) vs. Latitude Linear Regression"
   ]
  },
  {
   "cell_type": "code",
   "execution_count": 61,
   "metadata": {},
   "outputs": [
    {
     "name": "stdout",
     "output_type": "stream",
     "text": [
      "The r-value is: 0.0034803157227000342\n"
     ]
    },
    {
     "data": {
      "image/png": "[encoded data removed]",
      "text/plain": [
       "<Figure size 432x288 with 1 Axes>"
      ]
     },
     "metadata": {
      "needs_background": "light"
     },
     "output_type": "display_data"
    }
   ],
   "source": [
    "x_values = sh_df[\"Lat\"]\n",
    "y_values = sh_df[\"Cloudiness\"]\n",
    "\n",
    "(slope, intercept, rvalue, pvalue, stderr) = linregress(x_values, y_values)\n",
    "regress_values = x_values*slope+intercept\n",
    "line_eq = \"y=\"+str(round(slope, 2))+\"x+\"+str(round(intercept, 2))\n",
    "\n",
    "plt.scatter(x_values, y_values)\n",
    "plt.plot(x_values, regress_values, \"r-\")\n",
    "plt.annotate(line_eq, (-55,45), fontsize=15, color=\"red\")\n",
    "plt.xlabel(\"SH Latitude\")\n",
    "plt.ylabel(\"SH Cloudiness\")\n",
    "print(f\"The r-value is: {rvalue**2}\")\n",
    "\n",
    "# Save the figure\n",
    "plt.savefig(\"Output/reg_sh_lat_cloud.png\")\n",
    "\n",
    "# Show plot\n",
    "plt.show()"
   ]
  },
  {
   "cell_type": "markdown",
   "metadata": {},
   "source": [
    "####  Northern Hemisphere - Wind Speed (mph) vs. Latitude Linear Regression"
   ]
  },
  {
   "cell_type": "code",
   "execution_count": 63,
   "metadata": {},
   "outputs": [
    {
     "name": "stdout",
     "output_type": "stream",
     "text": [
      "The r-value is: 0.043813442506206196\n"
     ]
    },
    {
     "data": {
      "image/png": "[encoded data removed]",
      "text/plain": [
       "<Figure size 432x288 with 1 Axes>"
      ]
     },
     "metadata": {
      "needs_background": "light"
     },
     "output_type": "display_data"
    }
   ],
   "source": [
    "x_values = nh_df[\"Lat\"]\n",
    "y_values = nh_df[\"Wind Speed (mph)\"]\n",
    "\n",
    "(slope, intercept, rvalue, pvalue, stderr) = linregress(x_values, y_values)\n",
    "regress_values = x_values*slope+intercept\n",
    "line_eq = \"y=\"+str(round(slope, 2))+\"x+\"+str(round(intercept, 2))\n",
    "\n",
    "plt.scatter(x_values, y_values)\n",
    "plt.plot(x_values, regress_values, \"r-\")\n",
    "plt.annotate(line_eq, (10,25), fontsize=15, color=\"red\")\n",
    "plt.xlabel(\"NH Latitude\")\n",
    "plt.ylabel(\"NH Wind Speed (mph)\")\n",
    "print(f\"The r-value is: {rvalue**2}\")\n",
    "\n",
    "# Save the figure\n",
    "plt.savefig(\"Output/reg_nh_lat_wind.png\")\n",
    "\n",
    "# Show plot\n",
    "plt.show()"
   ]
  },
  {
   "cell_type": "markdown",
   "metadata": {},
   "source": [
    "####  Southern Hemisphere - Wind Speed (mph) vs. Latitude Linear Regression"
   ]
  },
  {
   "cell_type": "code",
   "execution_count": 66,
   "metadata": {},
   "outputs": [
    {
     "name": "stdout",
     "output_type": "stream",
     "text": [
      "The r-value is: 0.05127073395790998\n"
     ]
    },
    {
     "data": {
      "image/png": "[encoded data removed]",
      "text/plain": [
       "<Figure size 432x288 with 1 Axes>"
      ]
     },
     "metadata": {
      "needs_background": "light"
     },
     "output_type": "display_data"
    }
   ],
   "source": [
    "x_values = sh_df[\"Lat\"]\n",
    "y_values = sh_df[\"Wind Speed (mph)\"]\n",
    "\n",
    "(slope, intercept, rvalue, pvalue, stderr) = linregress(x_values, y_values)\n",
    "regress_values = x_values*slope+intercept\n",
    "line_eq = \"y=\"+str(round(slope, 2))+\"x+\"+str(round(intercept, 2))\n",
    "\n",
    "plt.scatter(x_values, y_values)\n",
    "plt.plot(x_values, regress_values, \"r-\")\n",
    "plt.annotate(line_eq, (-55,8), fontsize=15, color=\"red\")\n",
    "plt.xlabel(\"SH Latitude\")\n",
    "plt.ylabel(\"SH Wind Speed (mph)\")\n",
    "print(f\"The r-value is: {rvalue**2}\")\n",
    "\n",
    "# Save the figure\n",
    "plt.savefig(\"Output/reg_sh_lat_wind.png\")\n",
    "\n",
    "# Show plot\n",
    "plt.show()"
   ]
  },
  {
   "cell_type": "code",
   "execution_count": null,
   "metadata": {},
   "outputs": [],
   "source": []
  }
 ],
 "metadata": {
  "anaconda-cloud": {},
  "kernel_info": {
   "name": "python3"
  },
  "kernelspec": {
   "display_name": "Python 3",
   "language": "python",
   "name": "python3"
  },
  "language_info": {
   "codemirror_mode": {
    "name": "ipython",
    "version": 3
   },
   "file_extension": ".py",
   "mimetype": "text/x-python",
   "name": "python",
   "nbconvert_exporter": "python",
   "pygments_lexer": "ipython3",
   "version": "3.6.10"
  },
  "latex_envs": {
   "LaTeX_envs_menu_present": true,
   "autoclose": false,
   "autocomplete": true,
   "bibliofile": "biblio.bib",
   "cite_by": "apalike",
   "current_citInitial": 1,
   "eqLabelWithNumbers": true,
   "eqNumInitial": 1,
   "hotkeys": {
    "equation": "Ctrl-E",
    "itemize": "Ctrl-I"
   },
   "labels_anchors": false,
   "latex_user_defs": false,
   "report_style_numbering": false,
   "user_envs_cfg": false
  },
  "nteract": {
   "version": "0.12.3"
  }
 },
 "nbformat": 4,
 "nbformat_minor": 2
}
